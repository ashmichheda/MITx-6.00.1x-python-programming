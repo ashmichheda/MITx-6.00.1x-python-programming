{
 "cells": [
  {
   "cell_type": "code",
   "execution_count": 11,
   "metadata": {},
   "outputs": [
    {
     "name": "stdout",
     "output_type": "stream",
     "text": [
      "BMI of Ashmi is: 25.0\n",
      "Ashmi is overweight\n"
     ]
    }
   ],
   "source": [
    "name = \"Ashmi\"\n",
    "height_m = 2\n",
    "weight_kg = 100\n",
    "bmi = weight_kg / (height_m ** 2)\n",
    "print('BMI of Ashmi is: '+str(bmi))\n",
    "\n",
    "if bmi < 25:\n",
    "    print('Ashmi is not overweight')\n",
    "else:\n",
    "    print('Ashmi is overweight')"
   ]
  }
 ],
 "metadata": {
  "kernelspec": {
   "display_name": "Python 3",
   "language": "python",
   "name": "python3"
  },
  "language_info": {
   "codemirror_mode": {
    "name": "ipython",
    "version": 3
   },
   "file_extension": ".py",
   "mimetype": "text/x-python",
   "name": "python",
   "nbconvert_exporter": "python",
   "pygments_lexer": "ipython3",
   "version": "3.7.0"
  }
 },
 "nbformat": 4,
 "nbformat_minor": 2
}
